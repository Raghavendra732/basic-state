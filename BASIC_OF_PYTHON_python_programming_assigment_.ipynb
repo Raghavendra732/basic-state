{
  "nbformat": 4,
  "nbformat_minor": 0,
  "metadata": {
    "colab": {
      "provenance": [],
      "toc_visible": true,
      "authorship_tag": "ABX9TyP3ejm8q2R9rVuQIyNizj9/",
      "include_colab_link": true
    },
    "kernelspec": {
      "name": "python3",
      "display_name": "Python 3"
    },
    "language_info": {
      "name": "python"
    }
  },
  "cells": [
    {
      "cell_type": "markdown",
      "metadata": {
        "id": "view-in-github",
        "colab_type": "text"
      },
      "source": [
        "<a href=\"https://colab.research.google.com/github/Raghavendra732/basic-state/blob/main/BASIC_OF_PYTHON_python_programming_assigment_.ipynb\" target=\"_parent\"><img src=\"https://colab.research.google.com/assets/colab-badge.svg\" alt=\"Open In Colab\"/></a>"
      ]
    },
    {
      "cell_type": "markdown",
      "source": [
        "# RAGHAVENDRA SWAMY"
      ],
      "metadata": {
        "id": "mp8WhGDLOZyP"
      }
    },
    {
      "cell_type": "markdown",
      "source": [
        "# PRIME NUMBER"
      ],
      "metadata": {
        "id": "Q3YsVtP3LyjL"
      }
    },
    {
      "cell_type": "code",
      "execution_count": null,
      "metadata": {
        "id": "CjJlFkOtJOVN"
      },
      "outputs": [],
      "source": [
        "# prompt: Write a Python program that checks whether a given number is prime or not. A prime number is a natural number greater than 1 that has no positive divisors other than 1 and itself.\n",
        "\n",
        "import math\n",
        "\n",
        "def is_prime(number):\n",
        "    \"\"\"\n",
        "    Checks if a given number is prime.\n",
        "\n",
        "    Args:\n",
        "        number: The number to check.\n",
        "\n",
        "    Returns:\n",
        "        True if the number is prime, False otherwise.\n",
        "    \"\"\"\n",
        "\n",
        "    if number <= 1:\n",
        "        return False  # 1 and numbers less than 1 are not prime\n",
        "\n",
        "    if number <= 3:\n",
        "        return True  # 2 and 3 are prime\n",
        "\n",
        "    if number % 2 == 0 or number % 3 == 0:\n",
        "        return False  # Multiples of 2 or 3 are not prime\n",
        "\n",
        "    # Optimized primality test using 6k ± 1 optimization\n",
        "    for i in range(5, int(math.sqrt(number)) + 1, 6):\n",
        "        if number % i == 0 or number % (i + 2) == 0:\n",
        "            return False\n",
        "\n",
        "    return True\n",
        "\n",
        "# Get input from the user\n",
        "num = int(input(\"Enter a number: \"))\n",
        "\n",
        "# Check if the number is prime and print the result\n",
        "if is_prime(num):\n",
        "    print(f\"{num} is a prime number.\")\n",
        "else:\n",
        "    print(f\"{num} is not a prime number.\")\n"
      ]
    },
    {
      "cell_type": "markdown",
      "source": [
        "# : Product of Random Numbers"
      ],
      "metadata": {
        "id": "68E1U8EaM80b"
      }
    },
    {
      "cell_type": "code",
      "source": [
        "# prompt: Develop a Python program that generates two random numbers and asks the user to enter the product of these numbers. The program should then check if the user's answer is correct and display an appropriate message.\n",
        "\n",
        "import random\n",
        "\n",
        "# Generate two random numbers\n",
        "num1 = random.randint(1, 10)  # Generates a random integer between 1 and 10 (inclusive)\n",
        "num2 = random.randint(1, 10)\n",
        "\n",
        "# Calculate the correct product\n",
        "correct_product = num1 * num2\n",
        "\n",
        "# Ask the user for their answer\n",
        "user_answer = int(input(f\"What is the product of {num1} and {num2}? \"))\n",
        "\n",
        "# Check if the user's answer is correct\n",
        "if user_answer == correct_product:\n",
        "    print(\"Congratulations! Your answer is correct.\")\n",
        "else:\n",
        "    print(f\"Incorrect. The correct answer is {correct_product}.\")"
      ],
      "metadata": {
        "id": "37_1lFnZMuPA"
      },
      "execution_count": null,
      "outputs": []
    },
    {
      "cell_type": "markdown",
      "source": [
        "# : Squares of Even/Odd Numbers"
      ],
      "metadata": {
        "id": "ebN2TC7ktHYQ"
      }
    },
    {
      "cell_type": "code",
      "source": [
        "# prompt: Create a Python script that prints the squares of all even or odd numbers within the range of 100 to 200. Choose either even or odd numbers and document your choice in the code.\n",
        "\n",
        "# This script prints the squares of all even numbers within the range of 100 to 200.\n",
        "\n",
        "def print_even_squares(start, end):\n",
        "    \"\"\"\n",
        "    Prints the squares of all even numbers within a given range.\n",
        "\n",
        "    Args:\n",
        "      start: The starting number of the range (inclusive).\n",
        "      end: The ending number of the range (inclusive).\n",
        "    \"\"\"\n",
        "    for num in range(start, end + 1):\n",
        "        if num % 2 == 0:\n",
        "            print(num**2)\n",
        "\n",
        "# Example usage:\n",
        "print_even_squares(100, 200)"
      ],
      "metadata": {
        "id": "lNzWggUssiKB"
      },
      "execution_count": null,
      "outputs": []
    },
    {
      "cell_type": "markdown",
      "source": [
        "# word counter"
      ],
      "metadata": {
        "id": "qzfSXCe_qatl"
      }
    },
    {
      "cell_type": "code",
      "source": [
        "# prompt: write a program to count the number of words in a given text.\n",
        "# example:\n",
        "# input_text = \"This is a sample text. This text will be used to demonstrate the word counter.\"\n",
        "# Expected output:\n",
        "# 'This': 2\n",
        "# 'is': 1\n",
        "# 'a': 1\n",
        "# 'sample':1 'text':1\n",
        "\n",
        "def count_words(input_text):\n",
        "    \"\"\"Counts the occurrences of each word in a given text.\n",
        "\n",
        "    Args:\n",
        "        input_text: The input text string.\n",
        "\n",
        "    Returns:\n",
        "        A dictionary where keys are words and values are their counts.\n",
        "    \"\"\"\n",
        "\n",
        "    word_counts = {}\n",
        "    words = input_text.lower().split()  # Convert to lowercase and split into words\n",
        "\n",
        "    for word in words:\n",
        "        # Remove punctuation (you can customize this if needed)\n",
        "        cleaned_word = ''.join(char for char in word if char.isalnum())\n",
        "\n",
        "        if cleaned_word:  # Check if the word is not empty after cleaning\n",
        "          word_counts[cleaned_word] = word_counts.get(cleaned_word, 0) + 1\n",
        "\n",
        "    return word_counts\n",
        "\n",
        "# Example usage\n",
        "input_text = \"This is a sample text. This text will be used to demonstrate the word counter.\"\n",
        "word_counts = count_words(input_text)\n",
        "\n",
        "for word, count in word_counts.items():\n",
        "    print(f\"'{word}': {count}\")"
      ],
      "metadata": {
        "id": "9I45nqOHtXxK"
      },
      "execution_count": null,
      "outputs": []
    },
    {
      "cell_type": "markdown",
      "source": [
        "# Check for Palindrome"
      ],
      "metadata": {
        "id": "OkmmEs-8rYrP"
      }
    },
    {
      "cell_type": "code",
      "source": [
        "# prompt: Write a Python function called is_palindrome that takes a string as input and returns True if the string is a palindrome, and False otherwise. A palindrome is a word, phrase, number, or other sequence of characters that reads the same forward and backward, ignoring spaces, punctuation, and capitalization.\n",
        "\n",
        "def is_palindrome(text):\n",
        "    \"\"\"\n",
        "    Checks if a given string is a palindrome.\n",
        "\n",
        "    Args:\n",
        "      text: The input string.\n",
        "\n",
        "    Returns:\n",
        "      True if the string is a palindrome, False otherwise.\n",
        "    \"\"\"\n",
        "    processed_text = ''.join(char for char in text.lower() if char.isalnum())\n",
        "    return processed_text == processed_text[::-1]"
      ],
      "metadata": {
        "id": "Ty1N_6Ioqvuq"
      },
      "execution_count": null,
      "outputs": []
    },
    {
      "cell_type": "code",
      "source": [],
      "metadata": {
        "id": "5LwD_wsar4NG"
      },
      "execution_count": null,
      "outputs": []
    }
  ]
}